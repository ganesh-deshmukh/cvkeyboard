{
 "cells": [
  {
   "cell_type": "markdown",
   "metadata": {},
   "source": [
    "# Loading the model"
   ]
  },
  {
   "cell_type": "code",
   "execution_count": 1,
   "metadata": {},
   "outputs": [
    {
     "name": "stderr",
     "output_type": "stream",
     "text": [
      "Using TensorFlow backend.\n"
     ]
    },
    {
     "name": "stdout",
     "output_type": "stream",
     "text": [
      "WARNING:tensorflow:From /home/gd/anaconda3/lib/python3.7/site-packages/tensorflow/python/framework/op_def_library.py:263: colocate_with (from tensorflow.python.framework.ops) is deprecated and will be removed in a future version.\n",
      "Instructions for updating:\n",
      "Colocations handled automatically by placer.\n",
      "WARNING:tensorflow:From /home/gd/anaconda3/lib/python3.7/site-packages/keras/backend/tensorflow_backend.py:3445: calling dropout (from tensorflow.python.ops.nn_ops) with keep_prob is deprecated and will be removed in a future version.\n",
      "Instructions for updating:\n",
      "Please use `rate` instead of `keep_prob`. Rate should be set to `rate = 1 - keep_prob`.\n",
      "Model successfully loaded\n"
     ]
    }
   ],
   "source": [
    "from keras.models import load_model\n",
    "from keras.models import model_from_json\n",
    "\n",
    "json_file = open('model.json', 'r')\n",
    "loaded_model_json = json_file.read()\n",
    "json_file.close()\n",
    "loaded_model = model_from_json(loaded_model_json)\n",
    "\n",
    "\n",
    "loaded_model.load_weights('model.h5')\n",
    "\n",
    "model = loaded_model\n",
    "\n",
    "\n",
    "print('Model successfully loaded')"
   ]
  },
  {
   "cell_type": "code",
   "execution_count": null,
   "metadata": {},
   "outputs": [],
   "source": []
  },
  {
   "cell_type": "markdown",
   "metadata": {},
   "source": [
    "# Word Classification"
   ]
  },
  {
   "cell_type": "code",
   "execution_count": 37,
   "metadata": {
    "collapsed": true
   },
   "outputs": [
    {
     "name": "stdout",
     "output_type": "stream",
     "text": [
      "\n",
      "Predicted String:\n",
      " A1BCDEFGHzJ\n",
      "\n",
      "\n",
      "0.059234421998553444\n",
      "\n",
      "Predicted String:\n",
      " AKHPABLBQICMCRDJONDSKE0TEFPLQGMFHNRGSzOTJ\n",
      "\n",
      "\n",
      "0.18970485099998768\n",
      "\n",
      "Predicted String:\n",
      " PQRST\n",
      "\n",
      "\n",
      "0.03775562200098648\n",
      "\n",
      "Predicted String:\n",
      " HIJiKL1MN\n",
      "\n",
      "\n",
      "0.05295843600106309\n"
     ]
    }
   ],
   "source": [
    "import cv2\n",
    "import numpy as np\n",
    "from matplotlib import pyplot as plt\n",
    "%matplotlib inline\n",
    "from timeit import default_timer as timer\n",
    "\n",
    "characters = ['0','1','2','3','4','5','6','7','8','9','A','B','C','D','E','F','G','H','I','J','K','L','M','N','O','P','Q','R','S','T','U','V','W','X','Y','Z','a','b','c','d','e','f','g','h','i','j','k','l','m','n','o','p','q','r','s','t','u','v','w','x','y','z']\n",
    "\n",
    "\n",
    "import glob\n",
    "for filepath in glob.iglob('./images/*'):\n",
    "\n",
    "    # timer module, to calculate exact time required \n",
    "    start = timer()\n",
    "\n",
    "    #print(filepath)\n",
    "    #enter input image here\n",
    "    image = cv2.imread(filepath)\n",
    "    height, width, depth = image.shape\n",
    "\n",
    "    #resizing the image to find spaces better\n",
    "    image = cv2.resize(image, dsize=(width*5,height*4), interpolation=cv2.INTER_CUBIC)\n",
    "    #grayscale\n",
    "    gray = cv2.cvtColor(image,cv2.COLOR_BGR2GRAY)\n",
    "\n",
    "    #binary\n",
    "    ret,thresh = cv2.threshold(gray,127,255,cv2.THRESH_BINARY_INV)\n",
    "\n",
    "\n",
    "    #dilation\n",
    "    kernel = np.ones((5,5), np.uint8)\n",
    "    img_dilation = cv2.dilate(thresh, kernel, iterations=1)\n",
    "\n",
    "\n",
    "    #adding GaussianBlur\n",
    "    gsblur=cv2.GaussianBlur(img_dilation,(5,5),0)\n",
    "\n",
    "\n",
    "    #find contours\n",
    "    im2,ctrs, hier = cv2.findContours(gsblur.copy(), cv2.RETR_EXTERNAL, cv2.CHAIN_APPROX_SIMPLE)\n",
    "\n",
    "    m = list()\n",
    "    #sort contours\n",
    "    sorted_ctrs = sorted(ctrs, key=lambda ctr: cv2.boundingRect(ctr)[0])\n",
    "    pchl = list()\n",
    "    # dp = image.copy()\n",
    "    # for i, ctr in enumerate(sorted_ctrs):\n",
    "    #     # Get bounding box\n",
    "    #     x, y, w, h = cv2.boundingRect(ctr)\n",
    "    #     cv2.rectangle(dp,(x-10,y-10),( x + w + 10, y + h + 10 ),(90,0,255),9)\n",
    "\n",
    "    # plt.imshow(dp)\n",
    "\n",
    "    for i, ctr in enumerate(sorted_ctrs):\n",
    "        # Get bounding box\n",
    "        x, y, w, h = cv2.boundingRect(ctr)\n",
    "        # Getting ROI\n",
    "        roi = image[y-10:y+h+10, x-10:x+w+10]\n",
    "        roi = cv2.resize(roi, dsize=(28,28), interpolation=cv2.INTER_CUBIC)\n",
    "        roi = cv2.cvtColor(roi,cv2.COLOR_BGR2GRAY)\n",
    "\n",
    "        roi = np.array(roi)\n",
    "        t = np.copy(roi)\n",
    "        t = t / 255.0\n",
    "        t = 1-t\n",
    "        t = t.reshape(1,784)\n",
    "        m.append(roi)\n",
    "        pred = model.predict_classes(t)\n",
    "        pchl.append(pred)\n",
    "\n",
    "    pcw = list()\n",
    "    interp = 'bilinear'\n",
    "    # fig, axs = plt.subplots(nrows=len(sorted_ctrs), sharex=True, figsize=(1,len(sorted_ctrs)))\n",
    "    for i in range(len(pchl)):\n",
    "        #print (pchl[i][0])\n",
    "        pcw.append(characters[pchl[i][0]])\n",
    "    #     axs[i].set_title('-------> predicted letter: '+characters[pchl[i][0]], x=2.5,y=0.24)\n",
    "    #     axs[i].imshow(m[i], interpolation=interp)\n",
    "\n",
    "    # plt.show()\n",
    "    predstring = ''.join(pcw)\n",
    "    print('\\nPredicted String:\\n '+predstring)\n",
    "    print('\\n')\n",
    "\n",
    "    # print time taken for each image  \n",
    "    end = timer()\n",
    "    print(end - start)\n",
    "\n"
   ]
  },
  {
   "cell_type": "code",
   "execution_count": 42,
   "metadata": {},
   "outputs": [
    {
     "name": "stdout",
     "output_type": "stream",
     "text": [
      "./images/atof.jpg\n",
      "./images/atoz-images (copy).jpg\n",
      "./images/pqrst.jpg\n",
      "./images/h_to_n.jpg\n"
     ]
    }
   ],
   "source": [
    "#To loop through all files in given folder\n",
    "import glob\n",
    "for filepath in glob.iglob('./images/*'):\n",
    "    print(filepath)"
   ]
  },
  {
   "cell_type": "code",
   "execution_count": null,
   "metadata": {},
   "outputs": [],
   "source": []
  },
  {
   "cell_type": "code",
   "execution_count": null,
   "metadata": {},
   "outputs": [],
   "source": []
  }
 ],
 "metadata": {
  "kernelspec": {
   "display_name": "Python 3",
   "language": "python",
   "name": "python3"
  },
  "language_info": {
   "codemirror_mode": {
    "name": "ipython",
    "version": 3
   },
   "file_extension": ".py",
   "mimetype": "text/x-python",
   "name": "python",
   "nbconvert_exporter": "python",
   "pygments_lexer": "ipython3",
   "version": "3.7.2"
  }
 },
 "nbformat": 4,
 "nbformat_minor": 2
}
